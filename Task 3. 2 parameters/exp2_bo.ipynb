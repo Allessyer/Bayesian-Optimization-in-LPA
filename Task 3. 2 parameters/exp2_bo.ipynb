{
  "cells": [
    {
      "cell_type": "markdown",
      "metadata": {
        "id": "view-in-github",
        "colab_type": "text"
      },
      "source": [
        "<a href=\"https://colab.research.google.com/github/Allessyer/Bayesian-Optimization-in-LPA/blob/main/Task%203.%202%20parameters/exp2_bo.ipynb\" target=\"_parent\"><img src=\"https://colab.research.google.com/assets/colab-badge.svg\" alt=\"Open In Colab\"/></a>"
      ]
    },
    {
      "cell_type": "markdown",
      "metadata": {
        "id": "3qFaP-hkWBmz"
      },
      "source": [
        "# Experiment 2"
      ]
    },
    {
      "cell_type": "markdown",
      "metadata": {
        "tags": [],
        "id": "o13LH1yDWBm4"
      },
      "source": [
        "## Dummy problem"
      ]
    },
    {
      "cell_type": "code",
      "execution_count": null,
      "metadata": {
        "id": "T20xHsc6WBm6"
      },
      "outputs": [],
      "source": [
        "import torch\n",
        "import numpy as np\n",
        "import plotly\n",
        "import os\n",
        "import plotly.graph_objects as go\n",
        "import matplotlib.pyplot as plt\n",
        "\n",
        "\n",
        "from botorch.models import SingleTaskGP,ModelListGP\n",
        "from gpytorch.mlls.exact_marginal_log_likelihood import ExactMarginalLogLikelihood\n",
        "from botorch import fit_gpytorch_model\n",
        "from botorch.acquisition.monte_carlo import qExpectedImprovement\n",
        "from botorch.acquisition import ExpectedImprovement, ProbabilityOfImprovement, qMaxValueEntropy\n",
        "from botorch.optim import optimize_acqf\n",
        "from botorch.utils import standardize"
      ]
    },
    {
      "cell_type": "code",
      "execution_count": null,
      "metadata": {
        "id": "o0kSAVqFWBm8"
      },
      "outputs": [],
      "source": [
        "from mpl_toolkits.mplot3d import Axes3D\n",
        "import matplotlib.pyplot as plt\n",
        "from matplotlib import cm\n",
        "from matplotlib.ticker import LinearLocator, FormatStrFormatter\n",
        "import numpy as np"
      ]
    },
    {
      "cell_type": "markdown",
      "metadata": {
        "id": "4SW2wZ9lWBm-"
      },
      "source": [
        "### Objective function"
      ]
    },
    {
      "cell_type": "code",
      "execution_count": null,
      "metadata": {
        "id": "K9wz2EphWBm-"
      },
      "outputs": [],
      "source": [
        "#The range is bounded to -10.0 and 10.0 and one global optimal at [0.0, 0.0].\n",
        "# objective function\n",
        "def unimodal_func2(X1, X2):\n",
        "    return 0.26 * (X1**2 + X2**2) - 0.48 * X1 * X2\n",
        "\n",
        "#The range is bounded to -5.0 and 5.0 and one global optimal at [0.0, 0.0].\n",
        "def unimodal_func1(X1,X2):\n",
        "    return X1**2.0 + X2**2.0\n",
        "\n",
        "# objective function\n",
        "def unimodal_func3(X1, X2):\n",
        "    return -torch.cos(X1) * torch.cos(X2) * torch.exp(-((X1 - torch.pi)**2 + (X2 - torch.pi)**2))"
      ]
    },
    {
      "cell_type": "markdown",
      "metadata": {
        "tags": [],
        "id": "6QckPGilWBm_"
      },
      "source": [
        "### Generate data"
      ]
    },
    {
      "cell_type": "code",
      "execution_count": null,
      "metadata": {
        "id": "fHM4rlfZWBnA"
      },
      "outputs": [],
      "source": [
        "def create_real_data(r_min, r_max,step,function,BO_test_func=False):\n",
        "    X1 = torch.arange(r_min, r_max, step)\n",
        "    X2 = torch.arange(r_min, r_max, step)\n",
        "    X1_real, X2_real = torch.meshgrid(X1, X2)\n",
        "    if BO_test_func:\n",
        "        Y_real = np.zeros((X1_real.shape[0], X1_real.shape[1]))\n",
        "        for i in range (X1_real.shape[0]):\n",
        "            for j in range (X1_real.shape[1]):\n",
        "                x = torch.Tensor([X1_real[i][j],X2_real[i][j]]).reshape(1,-1)\n",
        "                y = function(x)\n",
        "                Y_real[i][j] = y\n",
        "    else:\n",
        "        Y_real = function(X1_real, X2_real)\n",
        "        \n",
        "    return X1_real,X2_real,Y_real\n",
        "  \n",
        "def generate_initial_data(r_min,r_max,function,n_points=10,BO_test_func=False):\n",
        "    d = 2\n",
        "    bounds = torch.stack([r_min * torch.ones(d), r_max * torch.ones(d)])\n",
        "\n",
        "    train_x = bounds[0] + (bounds[1] - bounds[0]) * torch.rand(n_points, d)\n",
        "    if BO_test_func:\n",
        "        train_y = function(train_x).unsqueeze(-1)\n",
        "    else:\n",
        "        train_y = function(train_x[:,0],train_x[:,1]).unsqueeze(-1)\n",
        "\n",
        "    return train_x,train_y,bounds"
      ]
    },
    {
      "cell_type": "markdown",
      "metadata": {
        "tags": [],
        "id": "YuVg7tHUWBnB"
      },
      "source": [
        "### Gaussian Process and acquisition functions"
      ]
    },
    {
      "cell_type": "code",
      "execution_count": null,
      "metadata": {
        "id": "FyXNJ7V_WBnB"
      },
      "outputs": [],
      "source": [
        "def init_GP(x_train,y_train):\n",
        "    # 1. Создаем гауссовский процесс\n",
        "    gaussian_process = SingleTaskGP(x_train,y_train) \n",
        "    mll = ExactMarginalLogLikelihood(gaussian_process.likelihood,gaussian_process) \n",
        "    # 2. Обучаем гауссовский процесс\n",
        "    fit_gpytorch_model(mll) \n",
        "\n",
        "    # 3. Создаем acquisition function\n",
        "    best_y_train = y_train.min()\n",
        "    acquisition_function = ExpectedImprovement(\n",
        "    model=gaussian_process,\n",
        "    best_f=best_y_train,\n",
        "    maximize=False\n",
        "    )\n",
        "    return gaussian_process,acquisition_function\n",
        "\n",
        "def get_next_points(x_train, y_train, bounds, n_points=1):\n",
        "    gaussian_process,acquisition_function = init_GP(x_train,y_train)\n",
        "\n",
        "    # 4. Оптимизируем acquisition function и получаем нового кандидата\n",
        "    candidates,_ = optimize_acqf(\n",
        "    acq_function=acquisition_function,\n",
        "    bounds=bounds,\n",
        "    q=n_points,\n",
        "    num_restarts=200,\n",
        "    raw_samples=512,\n",
        "    options={'batch_limit': 5,'maxiter': 200}\n",
        "    )\n",
        "    return candidates,gaussian_process,acquisition_function"
      ]
    },
    {
      "cell_type": "markdown",
      "metadata": {
        "tags": [],
        "id": "kvpNvsOEWBnC"
      },
      "source": [
        "### Plot 3D functions"
      ]
    },
    {
      "cell_type": "code",
      "execution_count": null,
      "metadata": {
        "id": "6riAyK5wWBnD"
      },
      "outputs": [],
      "source": [
        "def plot_3d_real_train(X,Y,Z,x_train,y_train):\n",
        "    fig = plt.figure(figsize=(20,10))\n",
        "    ax = fig.gca(projection='3d')\n",
        "\n",
        "    # Plot the surface.\n",
        "    surf = ax.plot_surface(X, Y, Z, cmap='gist_earth',\n",
        "                        linewidth=0, antialiased=False,alpha=0.4)\n",
        "\n",
        "    ax.scatter(x_train[:,0].cpu().numpy(),x_train[:,1].cpu().numpy(), y_train.cpu().numpy(), color = 'red', s=100)\n",
        "\n",
        "    # Add a color bar which maps values to colors.\n",
        "    fig.colorbar(surf, shrink=0.5, aspect=5)\n",
        "\n",
        "    ax.set_xlabel('$X_1$', fontsize=20)\n",
        "    ax.set_ylabel('$X_2$',fontsize=20)\n",
        "    ax.set_zlabel(r'$Y$', fontsize=30)\n",
        "\n",
        "    plt.show()\n",
        "\n",
        "\n",
        "def plot_result(X1_real,X2_real,Y_real,x_train,y_train,gaussian_process,acquisition_function,candidate,BO_test_func=False):\n",
        "\n",
        "    fig = plt.figure(figsize=(20,10))\n",
        "    ax = fig.gca(projection='3d')\n",
        "\n",
        "    # Plot real function.\n",
        "    if BO_test_func:\n",
        "        surf = ax.plot_surface(X1_real, X2_real, Y_real, cmap='gist_earth',\n",
        "                        linewidth=0, antialiased=False,alpha=0.2)\n",
        "    else:\n",
        "        surf = ax.plot_surface(X1_real.cpu().numpy(), X2_real.cpu().numpy(), Y_real.cpu().numpy(), cmap='gist_earth',\n",
        "                        linewidth=0, antialiased=False,alpha=0.2)\n",
        "\n",
        "    # Plot existing data: x_train, y_train\n",
        "    x_train = x_train.cpu().numpy()\n",
        "    y_train = y_train.cpu().numpy()\n",
        "\n",
        "    ax.scatter(x_train[:-1,0],x_train[:-1,1], y_train[:-1], color = 'gray', s=100)\n",
        "    ax.scatter(x_train[-1,0],x_train[-1,1], y_train[-1], color = 'red', s=30)\n",
        "\n",
        "    # Add a color bar which maps values to colors.\n",
        "    fig.colorbar(surf, shrink=0.5, aspect=5)\n",
        "\n",
        "    ax.set_xlabel('$X_1$', fontsize=20)\n",
        "    ax.set_ylabel('$X_2$',fontsize=20)\n",
        "    ax.set_zlabel(r'$Y$', fontsize=30)\n",
        "\n",
        "    # Plot acquisition function\n",
        "\n",
        "    X_real = torch.stack([X1_real.reshape(X1_real.shape[0]*X1_real.shape[1], 1), X2_real.reshape(X2_real.shape[0]*X2_real.shape[1], 1)], -1)\n",
        "    print(\"X_real shape = \", X_real.shape)\n",
        "    Y_acqui = acquisition_function(X_real)\n",
        "    print(\"Y_acqui shape = \", Y_acqui.shape)\n",
        "\n",
        "    Xraw1 = X_real.reshape((X1_real.shape[0],X1_real.shape[1],2)).detach().numpy()\n",
        "    Yraw1 = Y_acqui.reshape(X1_real.shape[0],X1_real.shape[1]).detach().numpy()\n",
        "    print(\"Xraw1 shape = \", Xraw1.shape)\n",
        "    print(\"Yraw1 shape = \", Yraw1.shape)\n",
        "\n",
        "    ax.contourf(Xraw1[:,:,0],Xraw1[:,:,1],Yraw1)\n",
        "\n",
        "    ax.scatter(candidate[:,0].cpu(),candidate[:,1].cpu(),marker=\"X\",c=\"black\", s=30)\n",
        "    ax.scatter(0.0, 0.0, marker = '*',c = \"yellow\",s = 30)\n",
        "\n",
        "    # ax.view_init(50, 35)\n",
        "\n",
        "    plt.show()\n",
        "\n",
        "    plt.contourf(Xraw1[:,:,0],Xraw1[:,:,1],Yraw1)\n",
        "\n",
        "    plt.scatter(candidate[:,0].cpu(),candidate[:,1].cpu(),marker=\"X\",c=\"black\",label = 'new candidate')\n",
        "    plt.scatter(0.0, 0.0, marker='*', c='yellow',label = \"real optimum\")\n",
        "    plt.legend()\n",
        "    plt.colorbar();\n",
        "    plt.show()"
      ]
    },
    {
      "cell_type": "markdown",
      "metadata": {
        "id": "UEbkfhYmWBnE"
      },
      "source": [
        "### BO function"
      ]
    },
    {
      "cell_type": "code",
      "execution_count": null,
      "metadata": {
        "id": "W1R4h7d4WBnE"
      },
      "outputs": [],
      "source": [
        "def Bayesian_Optimization(r_min, r_max,x_train,y_train,bounds,function,n_steps,BO_test_func=False):\n",
        "    X1_real,X2_real,Y_real = create_real_data(r_min, r_max,0.1,function,BO_test_func=BO_test_func)\n",
        "\n",
        "    for step in range(n_steps):\n",
        "        print(f'Nr. of optimization step: {step}')\n",
        "        x_pred,gaussian_process,acquisition_function = get_next_points(x_train, y_train, bounds, n_points=1)\n",
        "        if BO_test_func:\n",
        "            y_pred = function(x_pred).unsqueeze(-1)\n",
        "        else:\n",
        "            y_pred = function(x_pred[:,0],x_pred[:,1]).unsqueeze(-1)\n",
        "\n",
        "        print(f'New candidates are: {x_pred}')\n",
        "\n",
        "        # Add new candidates to x_train\n",
        "        x_train = torch.cat([x_train, x_pred])\n",
        "        y_train = torch.cat([y_train, y_pred])\n",
        "\n",
        "        # Find new best result\n",
        "        best_y_train = y_train.min().item()\n",
        "        print(f'Best point performs this way: {best_y_train}')\n",
        "        print(X1_real.dtype,X2_real.dtype,x_train.dtype,y_train.dtype,x_pred.dtype)\n",
        "\n",
        "        if BO_test_func:\n",
        "            plot_result(X1_real,X2_real,Y_real,x_train,y_train,gaussian_process,acquisition_function,x_pred,BO_test_func=True)\n",
        "        else:\n",
        "            plot_result(X1_real,X2_real,Y_real,x_train,y_train,gaussian_process,acquisition_function,x_pred)\n",
        "\n",
        "    return x_train,y_train"
      ]
    },
    {
      "cell_type": "markdown",
      "metadata": {
        "id": "KIZGDZRlWBnF"
      },
      "source": [
        "### Whole process"
      ]
    },
    {
      "cell_type": "code",
      "execution_count": null,
      "metadata": {
        "id": "TsOh4YsYWBnF"
      },
      "outputs": [],
      "source": [
        "r_min = -5.0\n",
        "r_max = 5.0\n",
        "x_train,y_train,bounds = generate_initial_data(r_min,r_max,unimodal_func1,n_points=10)"
      ]
    },
    {
      "cell_type": "code",
      "execution_count": null,
      "metadata": {
        "id": "MiIQw9p7WBnG",
        "outputId": "24fb1bfc-2d7c-40b9-8f22-31a82639bd3e"
      },
      "outputs": [
        {
          "data": {
            "text/plain": [
              "tensor([[-5., -5.],\n",
              "        [ 5.,  5.]])"
            ]
          },
          "execution_count": 218,
          "metadata": {},
          "output_type": "execute_result"
        }
      ],
      "source": [
        "bounds"
      ]
    },
    {
      "cell_type": "code",
      "execution_count": null,
      "metadata": {
        "tags": [],
        "id": "Eu9KhNOEWBnG"
      },
      "outputs": [],
      "source": [
        "x_train,y_train = Bayesian_Optimization(r_min,r_max,x_train,y_train,bounds,unimodal_func1,n_steps=10)"
      ]
    },
    {
      "cell_type": "code",
      "execution_count": null,
      "metadata": {
        "id": "_UF-g9JgWBnH",
        "outputId": "28122a9b-46b0-42f7-f69e-d70ce85100e0"
      },
      "outputs": [
        {
          "name": "stdout",
          "output_type": "stream",
          "text": [
            "Minimum y:  tensor(0.0415)\n",
            "Minimum x: tensor([0.0008, 0.2037])\n"
          ]
        }
      ],
      "source": [
        "print('Minimum y: ',torch.min(y_train))\n",
        "print(f'Minimum x: {x_train[torch.argmin(y_train)]}')"
      ]
    },
    {
      "cell_type": "markdown",
      "metadata": {
        "tags": [],
        "id": "YdIN4y_RWBnH"
      },
      "source": [
        "## Оборачиваем все в одну папку"
      ]
    },
    {
      "cell_type": "code",
      "execution_count": null,
      "metadata": {
        "id": "8Y4vqlc5WBnI"
      },
      "outputs": [],
      "source": [
        "import torch\n",
        "from botorch.models import SingleTaskGP\n",
        "from gpytorch.mlls.exact_marginal_log_likelihood import ExactMarginalLogLikelihood\n",
        "from botorch import fit_gpytorch_model\n",
        "from botorch.acquisition import ExpectedImprovement\n",
        "from botorch.optim import optimize_acqf"
      ]
    },
    {
      "cell_type": "code",
      "execution_count": null,
      "metadata": {
        "id": "6xCFxbZ8WBnI"
      },
      "outputs": [],
      "source": [
        "from my_functions.bo2d_functions import generate_initial_data_2D\n",
        "from my_functions.bo2d_functions import target_function_2D"
      ]
    },
    {
      "cell_type": "markdown",
      "metadata": {
        "jp-MarkdownHeadingCollapsed": true,
        "tags": [],
        "id": "R83QGvUiWBnI"
      },
      "source": [
        "### Objective function"
      ]
    },
    {
      "cell_type": "code",
      "execution_count": null,
      "metadata": {
        "id": "9OAuKr_HWBnJ"
      },
      "outputs": [],
      "source": [
        "#The range is bounded to -5.0 and 5.0 and one global optimal at [0.0, 0.0].\n",
        "def unimodal_func1(x1,x2):\n",
        "    y = x1**2.0 + x2**2.0\n",
        "    return y"
      ]
    },
    {
      "cell_type": "markdown",
      "metadata": {
        "jp-MarkdownHeadingCollapsed": true,
        "tags": [],
        "id": "NpWxk3nlWBnJ"
      },
      "source": [
        "### Generate initial dataset"
      ]
    },
    {
      "cell_type": "code",
      "execution_count": null,
      "metadata": {
        "id": "311JG6GZWBnK"
      },
      "outputs": [],
      "source": [
        "r_min = [-5.,-5.]\n",
        "r_max = [5.,5.]\n",
        "n_points = 5\n",
        "\n",
        "objective_function = lambda x1,x2: unimodal_func1(x1,x2)"
      ]
    },
    {
      "cell_type": "code",
      "execution_count": null,
      "metadata": {
        "id": "FxYWZVZaWBnK"
      },
      "outputs": [],
      "source": [
        "x_train, y_train, bounds = generate_initial_data_2D(r_min, r_max, objective_function,n_points)"
      ]
    },
    {
      "cell_type": "markdown",
      "metadata": {
        "jp-MarkdownHeadingCollapsed": true,
        "tags": [],
        "id": "aljGm79vWBnK"
      },
      "source": [
        "### Gaussian Process and Acquisition function"
      ]
    },
    {
      "cell_type": "code",
      "execution_count": null,
      "metadata": {
        "id": "PSQibGBPWBnL"
      },
      "outputs": [],
      "source": [
        "def init_GP(x_train,y_train):\n",
        "    # 1. Создаем гауссовский процесс\n",
        "    gaussian_process = SingleTaskGP(x_train,y_train) \n",
        "    mll = ExactMarginalLogLikelihood(gaussian_process.likelihood,gaussian_process) \n",
        "    # 2. Обучаем гауссовский процесс\n",
        "    fit_gpytorch_model(mll) \n",
        "\n",
        "    # 3. Создаем acquisition function\n",
        "    best_y_train = y_train.min()\n",
        "    acquisition_function = ExpectedImprovement(\n",
        "    model=gaussian_process,\n",
        "    best_f=best_y_train,\n",
        "    maximize=False\n",
        "    )\n",
        "    return gaussian_process,acquisition_function\n",
        "\n",
        "def get_next_points(x_train, y_train, bounds, n_points=1):\n",
        "    gaussian_process,acquisition_function = init_GP(x_train,y_train)\n",
        "\n",
        "    # 4. Оптимизируем acquisition function и получаем нового кандидата\n",
        "    candidates,_ = optimize_acqf(\n",
        "    acq_function=acquisition_function,\n",
        "    bounds=bounds,\n",
        "    q=n_points,\n",
        "    num_restarts=200,\n",
        "    raw_samples=512,\n",
        "    options={'batch_limit': 5,'maxiter': 200}\n",
        "    )\n",
        "    return candidates,gaussian_process,acquisition_function"
      ]
    },
    {
      "cell_type": "markdown",
      "metadata": {
        "tags": [],
        "id": "FqGLp8JfWBnL"
      },
      "source": [
        "### Plot functions"
      ]
    },
    {
      "cell_type": "code",
      "execution_count": null,
      "metadata": {
        "id": "eX4u-dl3WBnL"
      },
      "outputs": [],
      "source": [
        "import matplotlib.pyplot as plt\n",
        "from mpl_toolkits.mplot3d import Axes3D\n",
        "from matplotlib import rcParams\n",
        "rcParams['axes.labelpad'] = 20\n",
        "import numpy as np\n",
        "from matplotlib import cm\n",
        "from my_functions.bo2d_functions import create_x_train"
      ]
    },
    {
      "cell_type": "code",
      "execution_count": null,
      "metadata": {
        "id": "FoFxh4hZWBnL"
      },
      "outputs": [],
      "source": [
        "def plot_result(x_train,y_train,gaussian_process,acquisition_function):\n",
        "    \n",
        "    # Plot existing data: x_train, y_train\n",
        "    x_train = x_train.cpu().numpy()\n",
        "    y_train = y_train.cpu().numpy()\n",
        "\n",
        "    font = {'family': 'serif',\n",
        "    'color':  '#484441',   \n",
        "    'weight': 'normal',\n",
        "    'size': 16,\n",
        "    }\n",
        "\n",
        "    fig = plt.figure(figsize=(20,10))\n",
        "    ax = fig.gca(projection='3d')\n",
        "\n",
        "    ax.scatter(x_train[:5,0],x_train[:5,1], y_train[:5], color = 'gray', s=50,label=\"initial data\")\n",
        "    ax.scatter(x_train[5:-1,0],x_train[5:-1,1], y_train[-1], color = 'black', s=30, label='Observed data')\n",
        "    ax.scatter(x_train[-1,0],x_train[-1,1], y_train[-1], color = 'red', s=30, label='last candidate')\n",
        "\n",
        "    ax.set_xlabel('$X_1$', fontdict=font)\n",
        "    ax.set_ylabel('$X_2$',fontdict=font)\n",
        "    ax.set_zlabel(r'$Y$', fontdict=font)\n",
        "    ax.tick_params(labelcolor='blue', labelsize=13, width=10)\n",
        "\n",
        "    ax.legend()\n",
        "    ax.view_init(elev=25., azim=50)\n",
        "\n",
        "    # plot acquisition function\n",
        "    r_min = bounds[0]\n",
        "    r_max = bounds[1]\n",
        "\n",
        "    x_data, _ = create_x_train(r_min, r_max, n_points=500, dim = 2)\n",
        "\n",
        "    x_grid = x_data.unsqueeze(-2)\n",
        "    with torch.no_grad():\n",
        "        acqu = acquisition_function(x_grid).cpu().numpy()\n",
        "\n",
        "    plt.tricontourf(x_data[:,0], x_data[:,1], acqu)\n",
        "    plt.colorbar();\n",
        "    plt.show()"
      ]
    },
    {
      "cell_type": "markdown",
      "metadata": {
        "jp-MarkdownHeadingCollapsed": true,
        "tags": [],
        "id": "uiyJTQGNWBnM"
      },
      "source": [
        "### BO function"
      ]
    },
    {
      "cell_type": "code",
      "execution_count": null,
      "metadata": {
        "id": "f6DqXD_xWBnM"
      },
      "outputs": [],
      "source": [
        "def Bayesian_Optimization(x_train, y_train, bounds,objective_function, n_steps):\n",
        "    for step in range(n_steps):\n",
        "        print(f'Nr. of optimization step: {step}')\n",
        "        x_pred,gaussian_process,acquisition_function = get_next_points(x_train, y_train, bounds, n_points=1)\n",
        "        y_pred = target_function_2D(x_pred,objective_function).unsqueeze(-1)\n",
        "        \n",
        "        print(f'New candidates are: {x_pred}')\n",
        "        print(f'New value: {y_pred}')\n",
        "        \n",
        "        x_train = torch.cat([x_train, x_pred])\n",
        "        y_train = torch.cat([y_train, y_pred])\n",
        "        \n",
        "        arg_min = y_train.argmin().item()\n",
        "        print(f'Best y_train: {x_train[arg_min]}')\n",
        "        print(f'Best y_train: {y_train.min().item()}')\n",
        "        \n",
        "        plot_result(x_train,y_train,gaussian_process,acquisition_function)\n",
        "        \n",
        "    return x_train,y_train"
      ]
    },
    {
      "cell_type": "markdown",
      "metadata": {
        "tags": [],
        "id": "mnXskedZWBnM"
      },
      "source": [
        "### Whole Process"
      ]
    },
    {
      "cell_type": "code",
      "execution_count": null,
      "metadata": {
        "id": "g3udmwZoWBnN"
      },
      "outputs": [],
      "source": [
        "from my_functions.bo2d_functions import generate_initial_data_2D\n",
        "from my_functions.bo2d_functions import Bayesian_Optimization\n",
        "from my_functions.objective_functions2d import unimodal_func1"
      ]
    },
    {
      "cell_type": "code",
      "execution_count": null,
      "metadata": {
        "id": "kPojUSmTWBnN"
      },
      "outputs": [],
      "source": [
        "r_min = [-5.,-5.]\n",
        "r_max = [5.,5.]\n",
        "n_points = 5\n",
        "\n",
        "objective_function = lambda x1,x2: unimodal_func1(x1,x2)"
      ]
    },
    {
      "cell_type": "code",
      "execution_count": null,
      "metadata": {
        "id": "P3FHaCE6WBnN"
      },
      "outputs": [],
      "source": [
        "x_train, y_train, bounds = generate_initial_data_2D(r_min, r_max, objective_function,n_points)"
      ]
    },
    {
      "cell_type": "code",
      "execution_count": null,
      "metadata": {
        "scrolled": true,
        "tags": [],
        "id": "sJJOqsIoWBnO"
      },
      "outputs": [],
      "source": [
        "x_train,y_train = Bayesian_Optimization(x_train,y_train,bounds,unimodal_func1,n_steps=10)"
      ]
    },
    {
      "cell_type": "markdown",
      "metadata": {
        "id": "TJaAq1CoWBnO"
      },
      "source": [
        "## LPA optimization"
      ]
    },
    {
      "cell_type": "markdown",
      "metadata": {
        "tags": [],
        "id": "0mGmZwK0WBnO"
      },
      "source": [
        "### Create objective function"
      ]
    },
    {
      "cell_type": "code",
      "execution_count": null,
      "metadata": {
        "id": "4ZfK56frWBnO"
      },
      "outputs": [],
      "source": [
        "from my_functions.objective_functions2d import LPA_stage"
      ]
    },
    {
      "cell_type": "code",
      "execution_count": null,
      "metadata": {
        "id": "zorqb8n8WBnP"
      },
      "outputs": [],
      "source": [
        "E_laser = 1.0\n",
        "head_current  = 0.23\n",
        "varied_param = [E_laser, head_current]\n",
        "\n",
        "obj_type = 'desy_obj' # start with 1, not 0\n",
        "filtered = True\n",
        "objective_function = lambda varied_param: LPA_stage(varied_param,\n",
        "                                                    filtered=filtered,\n",
        "                                                    obj_type=obj_type) "
      ]
    },
    {
      "cell_type": "code",
      "execution_count": null,
      "metadata": {
        "id": "z2YpaUeyWBnP",
        "outputId": "494c9539-f8d4-41ea-d81e-a767c20b9320"
      },
      "outputs": [
        {
          "name": "stdout",
          "output_type": "stream",
          "text": [
            "Generating particle distribution... Done.\n",
            "\n",
            "Plasma stage\n",
            "------------\n",
            "Tracking in 10 step(s)... [--------------------] Done (106.268 seconds).\n",
            "--------------------------------------------------------------------------------\n",
            "obj_func = [2.3076428684309587, 8.182643743980097e-05, 2.556915645052335, 1.819915382383874, 60.744604101022276, 6628.770383427739]\n",
            "Elapsed time: 1.778817847116928 minutes\n",
            "objective_function = 1.819915382383874\n"
          ]
        }
      ],
      "source": [
        "y = objective_function(varied_param)"
      ]
    },
    {
      "cell_type": "markdown",
      "metadata": {
        "id": "d-LGYYm2WBnP"
      },
      "source": [
        "### BO process"
      ]
    },
    {
      "cell_type": "code",
      "execution_count": null,
      "metadata": {
        "id": "MyrSyZlPWBnQ"
      },
      "outputs": [],
      "source": [
        "from my_functions.bo2d_functions import generate_initial_data_2D\n",
        "from my_functions.bo2d_functions import Bayesian_Optimization\n",
        "from my_functions.objective_functions2d import unimodal_func1\n",
        "from my_functions.objective_functions2d import LPA_stage"
      ]
    },
    {
      "cell_type": "code",
      "execution_count": null,
      "metadata": {
        "id": "nMEcjAZ6WBnQ"
      },
      "outputs": [],
      "source": [
        "r_min = [1.,0.1]\n",
        "r_max = [10.,0.89]\n",
        "n_points = 5\n",
        "maximize=True\n",
        "\n",
        "obj_type = 'desy_obj' # start with 1, not 0\n",
        "filtered = True\n",
        "objective_function = lambda varied_params: LPA_stage(varied_params,\n",
        "                                                    filtered=filtered,\n",
        "                                                    obj_type=obj_type) "
      ]
    },
    {
      "cell_type": "code",
      "execution_count": null,
      "metadata": {
        "id": "5O--xZ76WBnQ",
        "outputId": "e28eed04-8617-47d0-ece3-8a3e90f1bf50"
      },
      "outputs": [
        {
          "name": "stdout",
          "output_type": "stream",
          "text": [
            "Generating particle distribution... Done.\n",
            "\n",
            "Plasma stage\n",
            "------------\n",
            "Tracking in 10 step(s)... [--------------------] Done (99.830 seconds).\n",
            "--------------------------------------------------------------------------------\n",
            "obj_func = [1.7671737854763991, 6.134364730715362e-05, 1.9168686360032143, 1.0939275695880464, 112.84216925692886, 13700.823259546918]\n",
            "Elapsed time: 1.6726723903993843 minutes\n",
            "objective_function = 1.0939275695880464\n",
            "Generating particle distribution... Done.\n",
            "\n",
            "Plasma stage\n",
            "------------\n",
            "Tracking in 10 step(s)... [--------------------] Done (101.860 seconds).\n",
            "--------------------------------------------------------------------------------\n",
            "obj_func = [1.2827802322055828, 4.4539431123674556e-05, 1.391769846336492, 0.7967373179688516, 112.02547846344942, 16862.757641682798]\n",
            "Elapsed time: 1.7061382852494718 minutes\n",
            "objective_function = 0.7967373179688516\n",
            "Generating particle distribution... Done.\n",
            "\n",
            "Plasma stage\n",
            "------------\n",
            "Tracking in 10 step(s)... [--------------------] Done (98.746 seconds).\n",
            "--------------------------------------------------------------------------------\n",
            "obj_func = [2.3741290483068296, 8.112531838161688e-05, 2.5350070499209125, 1.1759009326601637, 173.36997694858508, 33929.20133540428]\n",
            "Elapsed time: 1.6542858331328414 minutes\n",
            "objective_function = 1.1759009326601637\n",
            "Generating particle distribution... Done.\n",
            "\n",
            "Plasma stage\n",
            "------------\n",
            "Tracking in 10 step(s)... [--------------------] Done (101.397 seconds).\n",
            "--------------------------------------------------------------------------------\n",
            "obj_func = [1.8810704811762355, 6.488510155731388e-05, 2.0275321337894128, 1.070462968153819, 134.1105476006623, 22159.405959045733]\n",
            "Elapsed time: 1.6989720505167498 minutes\n",
            "objective_function = 1.070462968153819\n",
            "Generating particle distribution... Done.\n",
            "\n",
            "Plasma stage\n",
            "------------\n",
            "Tracking in 10 step(s)... [--------------------] Done (100.337 seconds).\n",
            "--------------------------------------------------------------------------------\n",
            "obj_func = [1.8727495391846056, 6.459364567060064e-05, 2.018424709100076, 1.0646700056828167, 134.37328444397798, 21654.73258212721]\n",
            "Elapsed time: 1.6806469258163512 minutes\n",
            "objective_function = 1.0646700056828167\n"
          ]
        }
      ],
      "source": [
        "x_train, y_train, bounds = generate_initial_data_2D(r_min, r_max, objective_function,n_points)"
      ]
    },
    {
      "cell_type": "code",
      "execution_count": null,
      "metadata": {
        "id": "074eglwJWBnR"
      },
      "outputs": [],
      "source": [
        "import torch\n",
        "from botorch.models import SingleTaskGP\n",
        "from gpytorch.mlls.exact_marginal_log_likelihood import ExactMarginalLogLikelihood\n",
        "from botorch import fit_gpytorch_model\n",
        "from botorch.acquisition import ExpectedImprovement\n",
        "from botorch.optim import optimize_acqf\n",
        "\n",
        "# for plot\n",
        "import matplotlib.pyplot as plt\n",
        "from mpl_toolkits.mplot3d import Axes3D\n",
        "from matplotlib import rcParams\n",
        "rcParams['axes.labelpad'] = 20\n",
        "import numpy as np\n",
        "from matplotlib import cm\n",
        "\n",
        "\n",
        "def create_x_train(r_min, r_max, n_points, dim = 2):\n",
        "    train_x = []\n",
        "    bounds = []\n",
        "    for i in range(dim):\n",
        "        d = 1\n",
        "        bound = torch.stack([r_min[i] * torch.ones(d), r_max[i] * torch.ones(d)])\n",
        "        x = bound[0] + (bound[1] - bound[0]) * torch.rand(n_points, d)\n",
        "        if len(train_x) == 0:\n",
        "            bounds = bound\n",
        "            train_x = x\n",
        "        else:\n",
        "            bounds = torch.cat((bounds,bound),1)\n",
        "            train_x = torch.cat((train_x,x),1)\n",
        "    return train_x, bounds\n",
        "\n",
        "def target_function_2D(x_train,objective_function):\n",
        "    train_x = x_train.clone().detach()\n",
        "    train_y = []\n",
        "    \n",
        "    for x1,x2 in train_x:\n",
        "        x1 = x1.numpy()\n",
        "        x2 = x2.numpy()\n",
        "        x = [x1,x2]\n",
        "        y = objective_function(x)\n",
        "        train_y.append(y)\n",
        "    \n",
        "    return torch.Tensor(train_y)\n",
        "\n",
        "def generate_initial_data_2D(r_min, r_max, objective_function,n_points):\n",
        "\n",
        "    train_x, bounds = create_x_train(r_min, r_max, n_points, dim = 2)\n",
        "    train_y = target_function_2D(train_x,objective_function)   \n",
        "    train_y = train_y.unsqueeze(-1)\n",
        "\n",
        "    return train_x,train_y,bounds\n",
        "\n",
        "def init_GP(x_train, y_train, maximize):\n",
        "    # 1. Создаем гауссовский процесс\n",
        "    gaussian_process = SingleTaskGP(x_train,y_train) \n",
        "    mll = ExactMarginalLogLikelihood(gaussian_process.likelihood,gaussian_process) \n",
        "    # 2. Обучаем гауссовский процесс\n",
        "    fit_gpytorch_model(mll) \n",
        "\n",
        "    # 3. Создаем acquisition function\n",
        "    if maximize:\n",
        "        best_y_train = y_train.max()\n",
        "    else:\n",
        "        best_y_train = y_train.min()\n",
        "    \n",
        "    # EI\n",
        "    EI = ExpectedImprovement(\n",
        "        model=gaussian_process,\n",
        "        best_f=best_y_train,\n",
        "        maximize=maximize\n",
        "        )\n",
        "    \n",
        "    acquisition_function = EI\n",
        "    return gaussian_process,acquisition_function\n",
        "\n",
        "def get_next_points(x_train, y_train, bounds, maximize, n_points=1):\n",
        "    gaussian_process,acquisition_function = init_GP(x_train, y_train, maximize)\n",
        "\n",
        "    # 4. Оптимизируем acquisition function и получаем нового кандидата\n",
        "    candidates,_ = optimize_acqf(\n",
        "    acq_function=acquisition_function,\n",
        "    bounds=bounds,\n",
        "    q=n_points,\n",
        "    num_restarts=200,\n",
        "    raw_samples=512,\n",
        "    )\n",
        "    return candidates,gaussian_process,acquisition_function\n",
        "\n",
        "def plot_result(x_train,y_train,bounds,gaussian_process,acquisition_function):\n",
        "    \n",
        "    # Plot existing data: x_train, y_train\n",
        "    x_train = x_train.cpu().numpy()\n",
        "    y_train = y_train.cpu().numpy()\n",
        "\n",
        "    font = {'family': 'serif',\n",
        "    'color':  '#484441',   \n",
        "    'weight': 'normal',\n",
        "    'size': 16,\n",
        "    }\n",
        "\n",
        "    fig = plt.figure(figsize=(20,10))\n",
        "    ax = fig.gca(projection='3d')\n",
        "\n",
        "    ax.scatter(x_train[:5,0],x_train[:5,1], y_train[:5], color = 'gray', s=50,label=\"initial data\")\n",
        "    ax.scatter(x_train[5:-1,0],x_train[5:-1,1], y_train[-1], color = 'black', s=30, label='Observed data')\n",
        "    ax.scatter(x_train[-1,0],x_train[-1,1], y_train[-1], color = 'red', s=30, label='last candidate')\n",
        "\n",
        "    ax.set_xlabel('$X_1$', fontdict=font)\n",
        "    ax.set_ylabel('$X_2$',fontdict=font)\n",
        "    ax.set_zlabel(r'$Y$', fontdict=font)\n",
        "    ax.tick_params(labelcolor='blue', labelsize=13, width=10)\n",
        "\n",
        "    ax.legend()\n",
        "    ax.view_init(elev=25., azim=50)\n",
        "    \n",
        "    # -plot result of bo step\n",
        "    r_min = bounds[0]\n",
        "    r_max = bounds[1]\n",
        "\n",
        "    x_data, _ = create_x_train(r_min, r_max, n_points=500, dim = 2)\n",
        "    # --plot gaussian process mean \n",
        "    posterior = gaussian_process.posterior(x_data)\n",
        "    mean = posterior.mean.squeeze(-1).cpu().detach().numpy()\n",
        "    x1 = x_data[:,0].cpu().detach().numpy()\n",
        "    x2 = x_data[:,1].cpu().detach().numpy()\n",
        "    \n",
        "    surf = ax.plot_trisurf(x1, x2, mean, cmap=cm.jet, linewidth=0.1, alpha=0.4)\n",
        "    cbar = fig.colorbar(surf, shrink=0.5, aspect=5)\n",
        "    cbar.set_label('Mean', rotation=270)\n",
        "    \n",
        "\n",
        "    # --plot acquisition function\n",
        "\n",
        "    x_grid = x_data.unsqueeze(-2)\n",
        "    with torch.no_grad():\n",
        "        acqu = acquisition_function(x_grid).cpu().detach().numpy()\n",
        "    \n",
        "    \n",
        "    surf2 = ax.tricontourf(x_data[:,0], x_data[:,1], acqu,zdir='z', cmap = cm.viridis, offset=-0.5)\n",
        "    ax.set_zlim(-0.5, acqu.max()+2)\n",
        "    cbar2 = fig.colorbar(surf2, shrink=0.5, aspect=5)\n",
        "    cbar2.set_label('Acquisition function', rotation=270)\n",
        "    \n",
        "    # plt.colorbar();\n",
        "    plt.show()\n",
        "    \n",
        "def Bayesian_Optimization(x_train, y_train, bounds, objective_function, maximize, n_steps):\n",
        "    \n",
        "    for step in range(n_steps):\n",
        "        print(f'Nr. of optimization step: {step}')\n",
        "        x_pred,gaussian_process,acquisition_function = get_next_points(x_train, y_train, bounds,maximize, n_points=1)\n",
        "        y_pred = target_function_2D(x_pred,objective_function).unsqueeze(-1)\n",
        "        \n",
        "        print(f'New candidates are: {x_pred}')\n",
        "        print(f'New value: {y_pred}')\n",
        "        \n",
        "        x_train = torch.cat([x_train, x_pred])\n",
        "        y_train = torch.cat([y_train, y_pred])\n",
        "        \n",
        "        if maximize:\n",
        "            arg_max = y_train.argmax().item()\n",
        "            best_y = y_train.max().item()\n",
        "            best_x = x_train[arg_max]\n",
        "        else:\n",
        "            arg_min = y_train.argmin().item()\n",
        "            best_y = y_train.min().item()\n",
        "            best_x = x_train[arg_min]\n",
        "            \n",
        "        print(f'Best x_train: {best_x}')\n",
        "        print(f'Best y_train: {best_y}')\n",
        "        \n",
        "        plot_result(x_train,y_train,bounds,gaussian_process,acquisition_function)\n",
        "        \n",
        "    return x_train,y_train"
      ]
    },
    {
      "cell_type": "code",
      "execution_count": null,
      "metadata": {
        "id": "71PPr0fIWBnT",
        "outputId": "2bd17573-1011-4230-d04c-3bf9760c8e04"
      },
      "outputs": [
        {
          "name": "stdout",
          "output_type": "stream",
          "text": [
            "Generating particle distribution... Done.\n",
            "\n",
            "Plasma stage\n",
            "------------\n",
            "Tracking in 10 step(s)... [--------------------] Done (99.929 seconds).\n",
            "--------------------------------------------------------------------------------\n",
            "obj_func = [1.2168980405858758, 4.256188416169629e-05, 1.3299753832740142, 0.826478788797937, 91.38103747496933, 9172.994040367763]\n",
            "Elapsed time: 1.6739282823507287 minutes\n",
            "objective_function = 0.826478788797937\n",
            "New candidates are: tensor([[8.7780, 0.8900]])\n",
            "New value: tensor([[0.8265]])\n"
          ]
        }
      ],
      "source": [
        "x_pred,gaussian_process,acquisition_function = get_next_points(x_train, y_train, bounds, n_points=1)\n",
        "y_pred = target_function_2D(x_pred,objective_function).unsqueeze(-1)\n",
        "\n",
        "print(f'New candidates are: {x_pred}')\n",
        "print(f'New value: {y_pred}')"
      ]
    },
    {
      "cell_type": "code",
      "execution_count": null,
      "metadata": {
        "id": "S5HJou5fWBnT",
        "outputId": "d5a58385-ac59-4304-e61b-c3525f1cd8e1"
      },
      "outputs": [
        {
          "name": "stdout",
          "output_type": "stream",
          "text": [
            "Best y_train: tensor([9.4157, 0.3723])\n",
            "Best y_train: 0.7967373132705688\n"
          ]
        }
      ],
      "source": [
        "x_train = torch.cat([x_train, x_pred])\n",
        "y_train = torch.cat([y_train, y_pred])\n",
        "\n",
        "arg_min = y_train.argmin().item()\n",
        "print(f'Best y_train: {x_train[arg_min]}')\n",
        "print(f'Best y_train: {y_train.min().item()}')"
      ]
    },
    {
      "cell_type": "code",
      "execution_count": null,
      "metadata": {
        "id": "P8-yuT1xWBnT",
        "outputId": "7890c25e-67f1-461d-c36b-4d0b5e0eabf8"
      },
      "outputs": [
        {
          "data": {
            "image/png": "[encoded data removed]",
            "text/plain": [
              "<Figure size 1440x720 with 3 Axes>"
            ]
          },
          "metadata": {
            "needs_background": "light"
          },
          "output_type": "display_data"
        }
      ],
      "source": [
        "plot_result(x_train,y_train,bounds,gaussian_process,acquisition_function)"
      ]
    },
    {
      "cell_type": "code",
      "execution_count": null,
      "metadata": {
        "id": "Is9prmkHWBnU"
      },
      "outputs": [],
      "source": [
        "x_train,y_train = Bayesian_Optimization(x_train,y_train,bounds,objective_function,maximize,n_steps=10)"
      ]
    },
    {
      "cell_type": "markdown",
      "metadata": {
        "id": "kb_nvNXjWBnU"
      },
      "source": [
        "### Сохранить картинки"
      ]
    },
    {
      "cell_type": "code",
      "execution_count": null,
      "metadata": {
        "id": "kZyXuxTYWBnU"
      },
      "outputs": [],
      "source": [
        "from my_functions.bo2d_functions import generate_initial_data_2D\n",
        "from my_functions.bo2d_functions import Bayesian_Optimization\n",
        "from my_functions.objective_functions2d import unimodal_func1\n",
        "from my_functions.objective_functions2d import LPA_stage\n",
        "import torch"
      ]
    },
    {
      "cell_type": "code",
      "execution_count": null,
      "metadata": {
        "id": "9xDsC3GVWBnU"
      },
      "outputs": [],
      "source": [
        "r_min = [1.,0.1]\n",
        "r_max = [10.,0.89]\n",
        "n_points = 5\n",
        "maximize=True\n",
        "\n",
        "obj_type = 'desy_obj' # start with 1, not 0\n",
        "filtered = True\n",
        "objective_function = lambda varied_params: LPA_stage(varied_params,\n",
        "                                                    filtered=filtered,\n",
        "                                                    obj_type=obj_type) "
      ]
    },
    {
      "cell_type": "code",
      "execution_count": null,
      "metadata": {
        "id": "5ZQh-ogGWBnV"
      },
      "outputs": [],
      "source": [
        "x_train, y_train, bounds = generate_initial_data_2D(r_min, r_max, objective_function,n_points)\n"
      ]
    },
    {
      "cell_type": "code",
      "execution_count": null,
      "metadata": {
        "id": "3rk2CGeIWBnV"
      },
      "outputs": [],
      "source": [
        "torch.save(x_train, 'x_train.pt')\n",
        "torch.save(y_train, 'y_train.pt')\n",
        "torch.save(bounds, 'bounds.pt')"
      ]
    },
    {
      "cell_type": "code",
      "execution_count": null,
      "metadata": {
        "id": "8ikZf4DJWBnV"
      },
      "outputs": [],
      "source": [
        "x_train = torch.load('x_train.pt')\n",
        "y_train = torch.load('y_train.pt')\n",
        "bounds = torch.load('bounds.pt')"
      ]
    },
    {
      "cell_type": "code",
      "execution_count": null,
      "metadata": {
        "id": "ybKvzEJbWBnW"
      },
      "outputs": [],
      "source": [
        "x_train,y_train = Bayesian_Optimization(x_train,y_train,bounds,objective_function,maximize,n_steps=20)"
      ]
    },
    {
      "cell_type": "code",
      "execution_count": null,
      "metadata": {
        "id": "hpgmnGbWWBnW"
      },
      "outputs": [],
      "source": [
        ""
      ]
    }
  ],
  "metadata": {
    "kernelspec": {
      "display_name": "Python 3",
      "language": "python",
      "name": "python3"
    },
    "language_info": {
      "codemirror_mode": {
        "name": "ipython",
        "version": 3
      },
      "file_extension": ".py",
      "mimetype": "text/x-python",
      "name": "python",
      "nbconvert_exporter": "python",
      "pygments_lexer": "ipython3",
      "version": "3.7.6"
    },
    "colab": {
      "name": "exp2_bo.ipynb",
      "provenance": [],
      "include_colab_link": true
    }
  },
  "nbformat": 4,
  "nbformat_minor": 0
}