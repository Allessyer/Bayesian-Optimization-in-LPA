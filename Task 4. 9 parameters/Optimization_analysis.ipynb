{
 "cells": [
  {
   "cell_type": "code",
   "execution_count": 1,
   "id": "0edfd322-41b3-4dd6-9f64-142c1fc40502",
   "metadata": {},
   "outputs": [],
   "source": [
    "from my_functions.assel_functions import *\n",
    "from my_functions.angel_functions import *"
   ]
  },
  {
   "cell_type": "markdown",
   "id": "8be89314-ce99-45a5-8e45-867812b61db3",
   "metadata": {},
   "source": [
    "## Optimization Task"
   ]
  },
  {
   "cell_type": "markdown",
   "id": "3342059f-ed72-4c4f-b2f1-c28b406a41b2",
   "metadata": {},
   "source": [
    "Optimization set up"
   ]
  },
  {
   "cell_type": "code",
   "execution_count": null,
   "id": "6b01c780-5efd-441a-b5b2-da86a27aad03",
   "metadata": {},
   "outputs": [],
   "source": [
    "input_params_names = ['beam_q','beam_z_head','beam_length','n_p_start','n_p_end','l_plateau','E_laser','tau_laser','head_current']"
   ]
  },
  {
   "cell_type": "code",
   "execution_count": null,
   "id": "0e4fb4d5-eafc-423b-b6c0-835ace2ec3cd",
   "metadata": {},
   "outputs": [],
   "source": [
    "task = \"Task3\"\n",
    "optim_task = 'sc18'\n",
    "path2sim = f'/beegfs/desy/group/mpa/mpa1/ayermek/{task}/{optim_task}/ensemble'"
   ]
  },
  {
   "cell_type": "markdown",
   "id": "2bc0b69d-a149-4262-83d9-7ba15a558b7e",
   "metadata": {},
   "source": [
    "First, we look at the convergence of energy efficiency during optimization"
   ]
  },
  {
   "cell_type": "code",
   "execution_count": null,
   "id": "bec022d4-dc37-4de0-b439-917869ee0338",
   "metadata": {},
   "outputs": [],
   "source": [
    "N_sim = 1500\n",
    "best_sim,obj_func = look_objective('Energy_conversion',path2sim,N_sim,plot=True)"
   ]
  },
  {
   "cell_type": "markdown",
   "id": "d087f2c4-d9ad-4a1f-9714-c4c6b59d8ea3",
   "metadata": {},
   "source": [
    "Then, we can look at the convergence of the objective function during optimization"
   ]
  },
  {
   "cell_type": "code",
   "execution_count": null,
   "id": "7b5d03a8-0f23-4715-bce6-5661f29a4772",
   "metadata": {},
   "outputs": [],
   "source": [
    "N_sim = 2000\n",
    "best_sim,obj_func = look_objective('f',path2sim,N_sim,plot=True)"
   ]
  },
  {
   "cell_type": "markdown",
   "id": "3ee38e0d-1e24-4d5a-89a8-87f82881695a",
   "metadata": {},
   "source": [
    "Below calculation of energy conversion of the best simulation based on objective function"
   ]
  },
  {
   "cell_type": "code",
   "execution_count": null,
   "id": "e0583cb4-5187-4a35-a73e-d30006185ed0",
   "metadata": {},
   "outputs": [],
   "source": [
    "onlyfiles = [f for f in listdir(path2sim)]\n",
    "\n",
    "folder = f'sim{best_sim}_worker*'\n",
    "folder = find_folder(folder,onlyfiles)\n",
    "print(folder)\n",
    "\n",
    "obj_name = 'Energy_conversion'\n",
    "\n",
    "Energy_conversion = open(f\"{path2sim}/{folder}/{obj_name}.txt\", \"r\")\n",
    "Energy_conversion = Energy_conversion.read().split('\\n')\n",
    "Energy_conversion = float(Energy_conversion[0])\n",
    "print(f\"Energy_conversion of the best sim = {-1*Energy_conversion} %\")"
   ]
  },
  {
   "cell_type": "markdown",
   "id": "2d75c920-555c-4e5a-bffd-2348ca578c21",
   "metadata": {},
   "source": [
    "Here we analyze how each parameter converged individually.\n",
    "\n",
    "In the plots below:\n",
    "- xaxis: value of the objective function of N best simulations in descending order. So it's best N simulation from left to right\n",
    "- yaxis: parameter values with respect to best N simulations"
   ]
  },
  {
   "cell_type": "code",
   "execution_count": null,
   "id": "94cddec4-ed7f-4147-a739-f560fd31b340",
   "metadata": {},
   "outputs": [],
   "source": [
    "first_N_simulations = 1000\n",
    "param_analysis(obj_func,first_N_simulations,input_params_names,path2sim)"
   ]
  },
  {
   "cell_type": "markdown",
   "id": "f8193156-e6e4-4b11-a0f6-41dd57f1c417",
   "metadata": {},
   "source": [
    "Analysis of the best simulation shows:\n",
    "\n",
    "- value of all parameters\n",
    "- Mean energy of the beam at each iteration\n",
    "- Plots: \n",
    "    - phase-space at each iteration\n",
    "    - longitudinal profile of the electric field\n",
    "    - plasma electron density and beam profile at each iteration\n",
    "    - a0 plot"
   ]
  },
  {
   "cell_type": "code",
   "execution_count": null,
   "id": "7760972c-9071-4a38-a1de-3497a89cd3c9",
   "metadata": {},
   "outputs": [],
   "source": [
    "best_sim_analysis(path2sim,best_sim,input_params_names,from_iter=0,till_iter=9)"
   ]
  },
  {
   "cell_type": "markdown",
   "id": "7612fd37-88f5-4d4b-9209-17f3f64c5721",
   "metadata": {},
   "source": [
    "### Resolution scan"
   ]
  },
  {
   "cell_type": "code",
   "execution_count": null,
   "id": "03e62601-8d69-4fb8-972a-790c95fea0ee",
   "metadata": {},
   "outputs": [],
   "source": [
    "input_params_names = ['beam_q','beam_z_head','beam_length','n_p_start','n_p_end','l_plateau','E_laser','tau_laser','head_current']\n",
    "variables = ['dr','dz','dz_fields']\n",
    "\n",
    "opt_task = 'sc18'\n",
    "res_scan_task = 'rs1'\n",
    "path2task = f'/beegfs/desy/group/mpa/mpa1/ayermek/Task3/{opt_task}/resolution_scan'"
   ]
  },
  {
   "cell_type": "markdown",
   "id": "5c00f2ed-e309-477b-ba0a-7ff5bc3060f7",
   "metadata": {},
   "source": [
    "#### dz_fields"
   ]
  },
  {
   "cell_type": "markdown",
   "id": "91048c1a-2067-44d1-af1d-18c06a3b3df3",
   "metadata": {},
   "source": [
    "Laser energy convergence analysis"
   ]
  },
  {
   "cell_type": "code",
   "execution_count": null,
   "id": "bc4d6efd-f6e9-425b-b28d-8dfa66917795",
   "metadata": {},
   "outputs": [],
   "source": [
    "variable = variables[2] # dz_fields\n",
    "# variable = variables[1] # dz\n",
    "# variable = variables[0] # dr\n",
    "valuerange = [1,4,8,16]\n",
    "folder = f'{variable}_change'\n",
    "for value in valuerange:\n",
    "    path2diags = f'{path2task}/{folder}/{variable}_{value}'\n",
    "    E_laser = analyze_sim(path2dir=f'{path2diags}',plot=False)\n",
    "    plt.plot(E_laser,label=f\"{variable}_{value}\")      \n",
    "\n",
    "plt.xlabel('Iteration')\n",
    "plt.ylabel('Energy [J]')\n",
    "plt.legend()         "
   ]
  },
  {
   "cell_type": "markdown",
   "id": "5e301099-ec02-4039-b026-8235caed858b",
   "metadata": {},
   "source": [
    "Time consumption analysis"
   ]
  },
  {
   "cell_type": "code",
   "execution_count": null,
   "id": "79cb1cc0-e9e9-4221-887d-d22f269cac98",
   "metadata": {},
   "outputs": [],
   "source": [
    "folder = f'{variable}_change'\n",
    "time_all = []\n",
    "for value in valuerange:\n",
    "    path2diags = f'{path2task}/{folder}/{variable}_{value}'\n",
    "    time_ = open(f\"{path2diags}/time_.txt\", \"r\")\n",
    "    time_ = time_.read().split('\\n')\n",
    "    time_ = float(time_[0])\n",
    "    time_ = time_ / 60\n",
    "    time_all.append(time_)\n",
    "    plt.scatter(time_,value,label =f\"{variable}_{value}\" )\n",
    "    \n",
    "plt.plot(time_all,valuerange)\n",
    "plt.ylabel('dz')\n",
    "plt.xlabel('Time [minutes]')\n",
    "plt.legend()\n",
    "plt.grid()\n"
   ]
  },
  {
   "cell_type": "markdown",
   "id": "63f5f6aa-dd83-4e73-a644-575cdea8b0e5",
   "metadata": {},
   "source": [
    "Best simulation results with different resolutions"
   ]
  },
  {
   "cell_type": "code",
   "execution_count": null,
   "id": "1a450aa4-034c-4c23-a93a-1c71aa2b76b1",
   "metadata": {},
   "outputs": [],
   "source": [
    "variable_range = valuerange\n",
    "N_plots = 3 # after Ez plot\n",
    "\n",
    "from_iter = 4\n",
    "rows = 1 + len(variable_range) * N_plots\n",
    "columns = 10 - from_iter\n",
    "fig = plt.figure(figsize=(5*columns, 3*rows))\n",
    "grid = plt.GridSpec(rows, columns, wspace = .25, hspace = .25)\n",
    "N_iterations = 10 - from_iter\n",
    "\n",
    "\n",
    "for index,iteration in enumerate(range(from_iter,10)):\n",
    "    exec (f\"plt.subplot(grid{[columns * 0 + index]})\")\n",
    "    folder = f'{variable}_change'\n",
    "    for value in variable_range:\n",
    "        path2diags = f'{path2task}/{folder}/{variable}_{value}'   \n",
    "\n",
    "        ts = OpenPMDTimeSeries(f'{path2diags}/diags/hdf5/', backend='h5py')\n",
    "        Ez, m = ts.get_field(iteration=iteration, field='E', coord='z')\n",
    "        plt.plot(m.z, Ez[Ez.shape[0]//2,:],label=f\"{variable}_{value}\")\n",
    "\n",
    "    plt.ylabel('Ez [MeV]')\n",
    "    plt.xlabel('z [m]')\n",
    "    plt.legend() \n",
    "    plt.title(f\"iter = {iteration}\")\n",
    "    \n",
    "    print(f'iteration = {iteration}')\n",
    "    print(\"--\"*20)\n",
    "    \n",
    "    for i,value in enumerate(variable_range):\n",
    "        path2diags = f'{path2task}/{folder}/{variable}_{value}' \n",
    "        ts = OpenPMDTimeSeries(f'{path2diags}/diags/hdf5/', backend='h5py')\n",
    "        \n",
    "        x, z, ux, uz = ts.get_particle(iteration=iteration, var_list=['x', 'z', 'ux', 'uz'], species='bunch')\n",
    "        print(f\"{variable}_{value}: Energy [MeV]\", .511*(np.mean(uz)-1))\n",
    "        F, m = ts.get_field(iteration=iteration, field='E', coord='z')\n",
    "        L, m = ts.get_field(iteration=iteration, field='a_mod')\n",
    "        \n",
    "        exec (f\"plt.subplot(grid{[columns * (len(variable_range)*0 + (i+1)) + index]})\")\n",
    "        plt.imshow(F, extent=m.imshow_extent, aspect='auto')\n",
    "        plt.clim(-1.e11,1.e11)\n",
    "        plt.colorbar()\n",
    "        \n",
    "        plt.plot(z,x,'k.',ms=.1)\n",
    "        plt.xlim([m.zmin, m.zmax])\n",
    "        plt.ylim([m.rmin, m.rmax])\n",
    "        plt.grid()\n",
    "        plt.title(f\"{variable} = {value}\")\n",
    "        \n",
    "        exec (f\"plt.subplot(grid{[columns * (len(variable_range)*1 + (i+1)) + index]})\")\n",
    "        plt.imshow(L, extent=m.imshow_extent, aspect='auto')\n",
    "        plt.colorbar()\n",
    "        \n",
    "        plt.plot(z,x,'k.',ms=.1)\n",
    "        plt.xlim([m.zmin, m.zmax])\n",
    "        plt.ylim([m.rmin, m.rmax])\n",
    "        plt.grid()\n",
    "        plt.title(f\"{variable} = {value}\")\n",
    "        \n",
    "        exec (f\"plt.subplot(grid{[columns * (len(variable_range)*2 + (i+1)) + index]})\")\n",
    "        above150_uz = []\n",
    "        above150_z = []\n",
    "        below150_uz = []\n",
    "        below150_z = []\n",
    "        for i in range(len(uz)):\n",
    "            if (uz[i]-1)*0.511 >= 150:\n",
    "                above150_uz.append(uz[i])\n",
    "                above150_z.append(z[i])\n",
    "            else:\n",
    "                below150_uz.append(uz[i])\n",
    "                below150_z.append(z[i]) \n",
    "                \n",
    "        Ez, m = ts.get_field(iteration=iteration, field='E', coord='z')\n",
    "        \n",
    "        plt.plot(above150_z,above150_uz,'.',ms=0.5,color='orange', label = 'above 150 MeV')\n",
    "        plt.plot(below150_z,below150_uz,'.',ms=0.5,color='#beab9e',label = 'below 150 MeV')\n",
    "        plt.grid()\n",
    "        plt.xlabel('z [m]')\n",
    "        plt.ylabel('uz [$m_e \\cdot c$]')\n",
    "        plt.title(f\"{variable} = {value}\")\n",
    "        plt.xlim([m.zmin, m.zmax])\n",
    "\n",
    "        \n",
    "    print(\"--\"*20)\n",
    "        \n",
    "        "
   ]
  },
  {
   "cell_type": "code",
   "execution_count": null,
   "id": "b3b4bf38-65e2-4a57-bd33-4e12614623fa",
   "metadata": {},
   "outputs": [],
   "source": []
  },
  {
   "cell_type": "code",
   "execution_count": null,
   "id": "e1554ad3-2fc1-42d7-8792-2c8457653e2a",
   "metadata": {},
   "outputs": [],
   "source": []
  },
  {
   "cell_type": "code",
   "execution_count": null,
   "id": "e7504026-ab20-438e-a273-37aa025d8941",
   "metadata": {},
   "outputs": [],
   "source": []
  },
  {
   "cell_type": "code",
   "execution_count": null,
   "id": "d7334ac8-fe63-4d49-93a8-6a2597632ab0",
   "metadata": {},
   "outputs": [],
   "source": []
  }
 ],
 "metadata": {
  "kernelspec": {
   "display_name": "Python 3",
   "language": "python",
   "name": "python3"
  },
  "language_info": {
   "codemirror_mode": {
    "name": "ipython",
    "version": 3
   },
   "file_extension": ".py",
   "mimetype": "text/x-python",
   "name": "python",
   "nbconvert_exporter": "python",
   "pygments_lexer": "ipython3",
   "version": "3.7.6"
  }
 },
 "nbformat": 4,
 "nbformat_minor": 5
}
